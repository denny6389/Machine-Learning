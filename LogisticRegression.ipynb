{
 "cells": [
  {
   "cell_type": "code",
   "execution_count": 19,
   "metadata": {},
   "outputs": [],
   "source": [
    "import numpy as np\n",
    "from sklearn import datasets, linear_model"
   ]
  },
  {
   "cell_type": "code",
   "execution_count": 1,
   "metadata": {},
   "outputs": [],
   "source": [
    "class LogisticRegression:\n",
    "\n",
    "    def __init__(self, learning_rate, fit_bias, num_of_iterations):\n",
    "        self.learning_rate = learning_rate\n",
    "        self.fit_bias = fit_bias\n",
    "        self.num_of_iterations = num_of_iterations\n",
    "\n",
    "    def sigmoid(self, z):\n",
    "        return 1 / (1 + np.exp(-z))\n",
    "\n",
    "    def add_bias(self, x_data):\n",
    "        bias = np.ones((x_data.shape[0], 1))  # dtype = x_data.type\n",
    "        return np.concatenate((bias, x_data), axis = 1)\n",
    "\n",
    "    def fit(self, x_data, y_data):\n",
    "        num_samples, num_features = np.shape(x_data)\n",
    "\n",
    "        if self.fit_bias:\n",
    "            x_data = self.add_bias(x_data)\n",
    "\n",
    "        self.weights = np.zeros((x_data.shape[1], 1))\n",
    "\n",
    "        for i in range(self.num_of_iterations):\n",
    "            z = np.dot(x_data, self.weights)\n",
    "            hypothesis = self.sigmoid(z)\n",
    "\n",
    "            loss = hypothesis - y_data\n",
    "\n",
    "            gradient = np.dot(x_data.transpose(), loss) / num_samples\n",
    "\n",
    "            self.weights -= self.learning_rate * gradient\n",
    "\n",
    "    def predict_prob(self, x_data):\n",
    "\n",
    "        if self.fit_bias:\n",
    "            x_data = self.add_bias(x_data)\n",
    "\n",
    "        return self.sigmoid(np.dot(x_data, self.weights))\n",
    "\n",
    "    def predict(self, x_data):\n",
    "\n",
    "        return self.predict_prob(x_data).round()"
   ]
  }
 ],
 "metadata": {
  "kernelspec": {
   "display_name": "Python 3",
   "language": "python",
   "name": "python3"
  },
  "language_info": {
   "codemirror_mode": {
    "name": "ipython",
    "version": 3
   },
   "file_extension": ".py",
   "mimetype": "text/x-python",
   "name": "python",
   "nbconvert_exporter": "python",
   "pygments_lexer": "ipython3",
   "version": "3.7.4"
  }
 },
 "nbformat": 4,
 "nbformat_minor": 2
}
