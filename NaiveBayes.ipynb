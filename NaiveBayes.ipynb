{
 "cells": [
  {
   "cell_type": "code",
   "execution_count": 8,
   "metadata": {},
   "outputs": [],
   "source": [
    "import numpy as np\n",
    "import pandas as pd\n",
    "import matplotlib.pyplot as plt\n",
    "import re\n",
    "from collections import defaultdict\n",
    "from math import *"
   ]
  },
  {
   "cell_type": "code",
   "execution_count": 69,
   "metadata": {},
   "outputs": [],
   "source": [
    "class NaiveBayes:\n",
    "\n",
    "    def __int__(self):\n",
    "        pass\n",
    "\n",
    "    def fit(self, x_data):\n",
    "        self.parameters = self.analyze_parameter_by_class(x_data)\n",
    "        self.priors = self.binary_prior(self.parameters)\n",
    "        \n",
    "\n",
    "    def predict(self, x_data):\n",
    "        num_of_samples = x_data.shape[0]\n",
    "        predictions = np.zeros((num_of_samples,1))\n",
    "\n",
    "        for samples in range(num_of_samples):\n",
    "            probabilities = NaiveBayes.naive_bayes(self.parameters, x_data[samples], self.priors)\n",
    "            best_class, best_prob = None, -1\n",
    "\n",
    "            for class_val, prob in probabilities.items():\n",
    "\n",
    "                if best_class is None or prob > best_prob:\n",
    "\n",
    "                    best_class = class_val\n",
    "                    best_prob = prob\n",
    "\n",
    "            predictions[[samples]] = best_class\n",
    "\n",
    "        return predictions\n",
    "\n",
    "    @staticmethod\n",
    "    def separate_by_class(x_data):\n",
    "\n",
    "        separated_data = dict()\n",
    "\n",
    "        for i in range(len(x_data)):\n",
    "            vector = x_data[i]\n",
    "            class_val = vector[-1]\n",
    "            if class_val not in separated_data:\n",
    "                separated_data[class_val] = list()\n",
    "            separated_data[class_val].append(vector)\n",
    "        return separated_data\n",
    "\n",
    "    @staticmethod\n",
    "    def std(numbers):\n",
    "        average = np.mean(numbers)\n",
    "        variance = sum([(x - average)**2 for x in numbers]) / float(len(numbers) - 1)\n",
    "        return sqrt(variance)\n",
    "\n",
    "    @staticmethod\n",
    "    def analyze_parameter_by_data(x_data):\n",
    "        parameters = [(np.mean(samples), NaiveBayes.std(samples), len(samples)) for samples in zip(*x_data)]\n",
    "        del(parameters[-1])\n",
    "        return parameters\n",
    "\n",
    "    @staticmethod\n",
    "    def analyze_parameter_by_class(x_data):\n",
    "        separated_data = NaiveBayes.separate_by_class(x_data)\n",
    "        parameters_list = dict()\n",
    "        for class_val, rows in separated_data.items():\n",
    "            parameters_list[class_val] = NaiveBayes.analyze_parameter_by_data(rows)\n",
    "        return parameters_list\n",
    "\n",
    "    @staticmethod\n",
    "    def likelihood(x_data, mean, std):\n",
    "        likelihood_exponent = exp(-((x_data - mean) ** 2 / (2 * std ** 2)))\n",
    "        return (1 / (np.sqrt(2 * pi) * std)) * likelihood_exponent\n",
    "\n",
    "    @staticmethod\n",
    "    def binary_prior(parameters):\n",
    "        total_frequency = sum([parameters[class_val][0][2] for class_val in parameters])\n",
    "        prior = dict()\n",
    "        for class_val, class_par in parameters.items():\n",
    "            prior[class_val] = parameters[class_val][0][2] / float(total_frequency)\n",
    "        return prior\n",
    "\n",
    "    @staticmethod\n",
    "    def naive_bayes(parameters, dataset, prior):\n",
    "        probabilities = dict()\n",
    "        for class_val, class_par in parameters.items():\n",
    "            probabilities[class_val] = prior[class_val]\n",
    "            for i in range(len(class_par)):\n",
    "                mean, std, _ = class_par[i]\n",
    "                probabilities[class_val] *= NaiveBayes.likelihood(dataset[i], mean, std)\n",
    "        return probabilities"
   ]
  },
  {
   "cell_type": "code",
   "execution_count": 68,
   "metadata": {},
   "outputs": [
    {
     "name": "stdout",
     "output_type": "stream",
     "text": [
      "[[0.]\n",
      " [0.]\n",
      " [0.]\n",
      " [0.]\n",
      " [0.]]\n"
     ]
    }
   ],
   "source": [
    "array = np.zeros((5,1))\n",
    "print(array)"
   ]
  }
 ],
 "metadata": {
  "kernelspec": {
   "display_name": "Python 3",
   "language": "python",
   "name": "python3"
  },
  "language_info": {
   "codemirror_mode": {
    "name": "ipython",
    "version": 3
   },
   "file_extension": ".py",
   "mimetype": "text/x-python",
   "name": "python",
   "nbconvert_exporter": "python",
   "pygments_lexer": "ipython3",
   "version": "3.7.4"
  }
 },
 "nbformat": 4,
 "nbformat_minor": 2
}
